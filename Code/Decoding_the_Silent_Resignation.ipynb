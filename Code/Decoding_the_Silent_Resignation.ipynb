{
 "cells": [
  {
   "cell_type": "markdown",
   "id": "fb891c7f",
   "metadata": {},
   "source": [
    "### Reading and Inspecting the Data"
   ]
  },
  {
   "cell_type": "code",
   "execution_count": null,
   "id": "01499ecf",
   "metadata": {},
   "outputs": [],
   "source": [
    "import pandas as pd\n",
    "import numpy as np\n",
    "import matplotlib.pyplot as plt\n",
    "import seaborn as sns"
   ]
  },
  {
   "cell_type": "code",
   "execution_count": null,
   "id": "a290ae5c",
   "metadata": {},
   "outputs": [],
   "source": [
    "# Set a professional style for plots\n",
    "plt.style.use('seaborn-v0_8-whitegrid')\n",
    "sns.set_palette('viridis')"
   ]
  },
  {
   "cell_type": "code",
   "execution_count": null,
   "id": "60b7a5e6",
   "metadata": {},
   "outputs": [],
   "source": [
    "# Load the training dataset. All our analysis and model training will be done on this file.\n",
    "df = pd.read_csv('C:/Mahdi/AI project/HR_project/archive (2)/aug_train.csv')"
   ]
  },
  {
   "cell_type": "code",
   "execution_count": null,
   "id": "30be1b71",
   "metadata": {},
   "outputs": [],
   "source": [
    "df.head()"
   ]
  },
  {
   "cell_type": "code",
   "execution_count": null,
   "id": "5cf555d8",
   "metadata": {},
   "outputs": [],
   "source": [
    "df.info()"
   ]
  },
  {
   "cell_type": "code",
   "execution_count": null,
   "id": "466716d1",
   "metadata": {},
   "outputs": [],
   "source": [
    "df.describe()"
   ]
  },
  {
   "cell_type": "code",
   "execution_count": null,
   "id": "bfe1c339",
   "metadata": {},
   "outputs": [],
   "source": [
    "df.shape"
   ]
  },
  {
   "cell_type": "markdown",
   "id": "24f1670c",
   "metadata": {},
   "source": [
    "### #counting values of each category in each column"
   ]
  },
  {
   "cell_type": "code",
   "execution_count": null,
   "id": "382f648f",
   "metadata": {},
   "outputs": [],
   "source": [
    "df[\"city_development_index\"].value_counts()"
   ]
  },
  {
   "cell_type": "code",
   "execution_count": null,
   "id": "d4e22265",
   "metadata": {},
   "outputs": [],
   "source": [
    "df[\"company_size\"].value_counts()"
   ]
  },
  {
   "cell_type": "code",
   "execution_count": null,
   "id": "86e53f3e",
   "metadata": {},
   "outputs": [],
   "source": [
    "df[\"education_level\"].value_counts()"
   ]
  },
  {
   "cell_type": "markdown",
   "id": "b2d3131c",
   "metadata": {},
   "source": [
    "### Preprocessing and Exploratory Data Analysis (EDA)"
   ]
  },
  {
   "cell_type": "markdown",
   "id": "aff38efb",
   "metadata": {},
   "source": [
    "#### Cleaning Experience and Last New Job Columns for train data"
   ]
  },
  {
   "cell_type": "code",
   "execution_count": null,
   "id": "fdfeff75",
   "metadata": {},
   "outputs": [],
   "source": [
    "print(\"Cleaning 'experience' and 'last_new_job' columns...\")\n",
    "\n",
    "# Clean 'experience' column\n",
    "df['experience'] = df['experience'].replace('>20', '21')\n",
    "df['experience'] = df['experience'].replace('<1', '0')\n",
    "df['experience'] = df['experience'].astype(float) # Convert to float to handle NaNs\n",
    "\n",
    "# Clean 'last_new_job' column\n",
    "df['last_new_job'] = df['last_new_job'].replace('>4', '5')\n",
    "df['last_new_job'] = df['last_new_job'].replace('never', '0')\n",
    "df['last_new_job'] = df['last_new_job'].astype(float)\n",
    "\n",
    "print(\"Columns cleaned.\")"
   ]
  },
  {
   "cell_type": "markdown",
   "id": "aa149259",
   "metadata": {},
   "source": [
    "#### Exploratory Data Analysis (EDA)"
   ]
  },
  {
   "cell_type": "code",
   "execution_count": null,
   "id": "7ca2e444",
   "metadata": {},
   "outputs": [],
   "source": [
    "# 1. Target Variable Distribution (Imbalance Check)\n",
    "plt.figure(figsize=(8, 6))\n",
    "sns.countplot(x='target', data=df)\n",
    "plt.title('Distribution of Target Variable\\n(0: Not Looking, 1: Looking for Job)', fontsize=14)\n",
    "plt.xlabel('Target', fontsize=12)\n",
    "plt.ylabel('Count', fontsize=12)\n",
    "plt.show()\n",
    "\n",
    "# 2. The Training Conundrum\n",
    "plt.figure(figsize=(12, 7))\n",
    "sns.histplot(data=df, x='training_hours', hue='target', kde=True, bins=30)\n",
    "plt.title('Training Hours vs. Job Change Intent', fontsize=16)\n",
    "plt.xlabel('Training Hours', fontsize=12)\n",
    "plt.ylabel('Density', fontsize=12)\n",
    "plt.legend(title='Looking for Job', labels=['Yes', 'No'])\n",
    "plt.show()\n",
    "\n",
    "# 3. The Experience Factor\n",
    "plt.figure(figsize=(14, 8))\n",
    "sns.countplot(x='experience', data=df, hue='target', order=sorted(df['experience'].unique()))\n",
    "plt.title('Experience Level vs. Job Change Intent', fontsize=16)\n",
    "plt.xlabel('Years of Experience', fontsize=12)\n",
    "plt.ylabel('Count', fontsize=12)\n",
    "plt.xticks(rotation=45)\n",
    "plt.legend(title='Looking for Job', labels=['No', 'Yes'])\n",
    "plt.show()\n",
    "\n",
    "# 4. Company Loyalty\n",
    "plt.figure(figsize=(12, 7))\n",
    "sns.countplot(x='last_new_job', data=df, hue='target', order=sorted(df['last_new_job'].unique()))\n",
    "plt.title('Years Since Last Job vs. Job Change Intent', fontsize=16)\n",
    "plt.xlabel('Years Since Last Job Change', fontsize=12)\n",
    "plt.ylabel('Count', fontsize=12)\n",
    "plt.legend(title='Looking for Job', labels=['No', 'Yes'])\n",
    "plt.show()"
   ]
  },
  {
   "cell_type": "markdown",
   "id": "758f5cd6",
   "metadata": {},
   "source": [
    "#### Encoding Categorical Variables"
   ]
  },
  {
   "cell_type": "code",
   "execution_count": null,
   "id": "e23553d2",
   "metadata": {},
   "outputs": [],
   "source": [
    "# Make a copy to keep the original dataframe intact\n",
    "df_encoded = df.copy()\n",
    "\n",
    "# Ordinal Encoding for features with a clear order\n",
    "ordinal_map = {\n",
    "    'education_level': {'Primary School': 0, 'High School': 1, 'Graduate': 2, 'Masters': 3, 'Phd': 4},\n",
    "    'company_size': {'<10': 0, '10/49': 1, '50-99': 2, '100-500': 3, '500-999': 4, '1000-4999': 5, '5000-9999': 6, '10000+': 7}\n",
    "}\n",
    "df_encoded['education_level'] = df_encoded['education_level'].map(ordinal_map[('education_level')])\n",
    "df_encoded['company_size'] = df_encoded['company_size'].map(ordinal_map[('company_size')])\n",
    "\n",
    "# Label Encoding for binary features\n",
    "from sklearn.preprocessing import LabelEncoder\n",
    "\n",
    "label_cols = ['relevent_experience', 'enrolled_university']\n",
    "for col in label_cols:\n",
    "    df_encoded[col] = LabelEncoder().fit_transform(df_encoded[col])\n",
    "\n",
    "# One-Hot Encoding for nominal features (no order)\n",
    "# We will drop one category to avoid multicollinearity\n",
    "nominal_cols = ['city', 'gender', 'major_discipline', 'company_type']\n",
    "df_encoded = pd.get_dummies(df_encoded, columns=nominal_cols, drop_first=True)\n",
    "\n",
    "print(\"--- Data after Encoding ---\")\n",
    "df_encoded.head()"
   ]
  },
  {
   "cell_type": "markdown",
   "id": "42d43d2c",
   "metadata": {},
   "source": [
    "### Building and Comparing Models"
   ]
  },
  {
   "cell_type": "code",
   "execution_count": null,
   "id": "81412bc1",
   "metadata": {},
   "outputs": [],
   "source": [
    "from sklearn.model_selection import train_test_split\n",
    "from sklearn.preprocessing import StandardScaler\n",
    "from sklearn.linear_model import LogisticRegression\n",
    "from sklearn.ensemble import RandomForestClassifier\n",
    "from xgboost import XGBClassifier\n",
    "from sklearn.metrics import accuracy_score, classification_report, roc_auc_score, confusion_matrix"
   ]
  },
  {
   "cell_type": "code",
   "execution_count": null,
   "id": "11b2bc2d",
   "metadata": {},
   "outputs": [],
   "source": [
    "# 1. Prepare Data for Modeling\n",
    "# Drop the ID column as it's not a feature\n",
    "df_encoded = df_encoded.drop('enrollee_id', axis=1)"
   ]
  },
  {
   "cell_type": "code",
   "execution_count": null,
   "id": "8a69dfe8",
   "metadata": {},
   "outputs": [],
   "source": [
    "X = df_encoded.drop('target', axis=1)\n",
    "y = df_encoded['target']"
   ]
  },
  {
   "cell_type": "code",
   "execution_count": null,
   "id": "c527af46",
   "metadata": {},
   "outputs": [],
   "source": [
    "# 2. Split data into training and testing sets\n",
    "X_train, X_test, y_train, y_test = train_test_split(X, y, test_size=0.2, random_state=42, stratify=y)"
   ]
  },
  {
   "cell_type": "code",
   "execution_count": null,
   "id": "a2388e75",
   "metadata": {},
   "outputs": [],
   "source": [
    "# 3. Scale numerical features\n",
    "\n",
    "scaler = StandardScaler()\n",
    "numerical_features = ['city_development_index', 'training_hours', 'experience', 'last_new_job']\n",
    "X_train[numerical_features] = scaler.fit_transform(X_train[numerical_features])\n",
    "X_test[numerical_features] = scaler.transform(X_test[numerical_features])\n"
   ]
  },
  {
   "cell_type": "markdown",
   "id": "0346fdd2",
   "metadata": {},
   "source": [
    "#### XGboost"
   ]
  },
  {
   "cell_type": "code",
   "execution_count": null,
   "id": "4170fb1d",
   "metadata": {},
   "outputs": [],
   "source": [
    "scale_pos_weight = y_train.value_counts()[0] / y_train.value_counts()[1]\n",
    "print(f\"Calculated scale_pos_weight for XGBoost: {scale_pos_weight:.2f}\")"
   ]
  },
  {
   "cell_type": "code",
   "execution_count": null,
   "id": "a8758204",
   "metadata": {},
   "outputs": [],
   "source": [
    "xgb = XGBClassifier(random_state=42, use_label_encoder=False, eval_metric='aucpr',\n",
    "                    scale_pos_weight=scale_pos_weight, n_estimators=100,\n",
    "                    learning_rate=0.1, max_depth=6)\n",
    "xgb.fit(X_train, y_train)"
   ]
  },
  {
   "cell_type": "code",
   "execution_count": null,
   "id": "24f3a103",
   "metadata": {},
   "outputs": [],
   "source": [
    "xgb.fit(X_train, y_train)\n",
    "\n",
    "y_pred_xgb = xgb.predict(X_test)\n",
    "y_proba_xgb = xgb.predict_proba(X_test)[:, 1]\n",
    "\n",
    "accuracy_xgb = accuracy_score(y_test, y_pred_xgb)\n",
    "roc_auc_xgb = roc_auc_score(y_test, y_proba_xgb)\n",
    "report_xgb = classification_report(y_test, y_pred_xgb)\n",
    "\n",
    "print(\"--- XGBoost ---\")\n",
    "print(f\"Accuracy: {accuracy_xgb:.4f}\")\n",
    "print(f\"ROC AUC Score: {roc_auc_xgb:.4f}\")\n",
    "print(\"Classification Report:\")\n",
    "print(report_xgb)"
   ]
  },
  {
   "cell_type": "code",
   "execution_count": null,
   "id": "5778846e",
   "metadata": {},
   "outputs": [],
   "source": [
    "cm_xgb = confusion_matrix(y_test, y_pred_xgb)\n",
    "plt.figure(figsize=(6, 4))\n",
    "sns.heatmap(cm_xgb, annot=True, fmt='d', cmap='Blues',\n",
    "            xticklabels=['Not Looking', 'Looking'],\n",
    "            yticklabels=['Not Looking', 'Looking'])\n",
    "plt.title('Confusion Matrix - XGBoost')\n",
    "plt.xlabel('Predicted')\n",
    "plt.ylabel('Actual')\n",
    "plt.show()"
   ]
  },
  {
   "cell_type": "markdown",
   "id": "ce943d00",
   "metadata": {},
   "source": [
    "#### Random Forest"
   ]
  },
  {
   "cell_type": "code",
   "execution_count": null,
   "id": "9d07ca8d",
   "metadata": {},
   "outputs": [],
   "source": [
    "rf = RandomForestClassifier(random_state=42, n_estimators=150, max_depth=10, class_weight='balanced')\n",
    "rf.fit(X_train, y_train)"
   ]
  },
  {
   "cell_type": "code",
   "execution_count": null,
   "id": "291d3759",
   "metadata": {},
   "outputs": [],
   "source": [
    "y_pred_rf = rf.predict(X_test)\n",
    "y_proba_rf = rf.predict_proba(X_test)[:, 1]\n",
    "\n",
    "accuracy_rf = accuracy_score(y_test, y_pred_rf)\n",
    "roc_auc_rf = roc_auc_score(y_test, y_proba_rf)\n",
    "report_rf = classification_report(y_test, y_pred_rf)\n",
    "\n",
    "print(\"--- Random Forest ---\")\n",
    "print(f\"Accuracy: {accuracy_rf:.4f}\")\n",
    "print(f\"ROC AUC Score: {roc_auc_rf:.4f}\")\n",
    "print(\"Classification Report:\")\n",
    "print(report_rf)"
   ]
  },
  {
   "cell_type": "code",
   "execution_count": null,
   "id": "30b49ca7",
   "metadata": {},
   "outputs": [],
   "source": [
    "cm_rf = confusion_matrix(y_test, y_pred_rf)\n",
    "plt.figure(figsize=(6, 4))\n",
    "sns.heatmap(cm_rf, annot=True, fmt='d', cmap='Blues',\n",
    "            xticklabels=['Not Looking', 'Looking'],\n",
    "            yticklabels=['Not Looking', 'Looking'])\n",
    "plt.title('Confusion Matrix - Random Forest')\n",
    "plt.xlabel('Predicted')\n",
    "plt.ylabel('Actual')\n",
    "plt.show()"
   ]
  },
  {
   "cell_type": "markdown",
   "id": "dc069abb",
   "metadata": {},
   "source": [
    "### Feature Importance - Uncovering the Key Predictors"
   ]
  },
  {
   "cell_type": "code",
   "execution_count": null,
   "id": "95a752dd",
   "metadata": {},
   "outputs": [],
   "source": [
    "# --- Feature Importance Analysis (using XGBoost) ---\n",
    "best_model = xgb"
   ]
  },
  {
   "cell_type": "code",
   "execution_count": null,
   "id": "5cc2cc4a",
   "metadata": {},
   "outputs": [],
   "source": [
    "# Get feature importances\n",
    "importances = best_model.feature_importances_\n",
    "feature_names = X_train.columns"
   ]
  },
  {
   "cell_type": "code",
   "execution_count": null,
   "id": "644de283",
   "metadata": {},
   "outputs": [],
   "source": [
    "# Create a DataFrame for visualization\n",
    "feature_importance_df = pd.DataFrame({'feature': feature_names, 'importance': importances})\n",
    "feature_importance_df = feature_importance_df.sort_values(by='importance', ascending=False)\n"
   ]
  },
  {
   "cell_type": "code",
   "execution_count": null,
   "id": "b83be73f",
   "metadata": {},
   "outputs": [],
   "source": [
    "# Plot the top 15 features\n",
    "plt.figure(figsize=(12, 10))\n",
    "sns.barplot(x='importance', y='feature', data=feature_importance_df.head(15), palette='inferno')\n",
    "plt.title('Top 15 Most Important Features for Predicting Job Change', fontsize=16)\n",
    "plt.xlabel('Importance Score', fontsize=12)\n",
    "plt.ylabel('Feature', fontsize=12)\n",
    "plt.tight_layout()\n",
    "plt.show()"
   ]
  },
  {
   "cell_type": "code",
   "execution_count": null,
   "id": "7130ecb8",
   "metadata": {},
   "outputs": [],
   "source": [
    "print(\"\\n--- Top 5 Predictors ---\")\n",
    "print(feature_importance_df.head(5))"
   ]
  }
 ],
 "metadata": {
  "kernelspec": {
   "display_name": "Python 3",
   "language": "python",
   "name": "python3"
  },
  "language_info": {
   "codemirror_mode": {
    "name": "ipython",
    "version": 3
   },
   "file_extension": ".py",
   "mimetype": "text/x-python",
   "name": "python",
   "nbconvert_exporter": "python",
   "pygments_lexer": "ipython3",
   "version": "3.13.3"
  }
 },
 "nbformat": 4,
 "nbformat_minor": 5
}
